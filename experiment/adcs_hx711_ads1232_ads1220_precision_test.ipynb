{
 "cells": [
  {
   "cell_type": "markdown",
   "metadata": {},
   "source": [
    "# Strain-gauage ADCs: HX711, ADS1232, ADS1220 Comparison Test"
   ]
  },
  {
   "cell_type": "markdown",
   "metadata": {},
   "source": [
    "<img width=300px align=right src=test_system.jpg> \n",
    "This comparison test is meant to find a decision key \n",
    "    for choosing the ADC among __HX711, ADS1232, and ADS1220__ for measurement of __strain gauge__.\n",
    "\n",
    "The experiment focuses on the question about precision on each ADC.\n",
    "Diffence between read values on same weight should be aware.\n",
    "\n",
    "In experiment, the sensor, ADC, and microcontroller are connected as the system shown in the right figure."
   ]
  },
  {
   "cell_type": "markdown",
   "metadata": {},
   "source": [
    "<img width=300px align=left src=eqv_loadcell.jpg> \n",
    "These ADCs are designed to interface with such kind of sensor \n",
    "    which changes the output voltage slightly in comparison with the excitation voltage.\n",
    "Thus, each of them has already been embedded a differential amplifier as the front-end\n",
    "    to connect with an external __Wheatstone-bridge__ circuit integrated with the strain gauge.\n",
    "\n",
    "The mentioned bridge circuit, as shown on the left figure, \n",
    "    has already been embedded in the device that is called __loadcell__.\n",
    "In experiment, each of ADCs was connected with a loadcell and measured values of standard weights."
   ]
  },
  {
   "cell_type": "markdown",
   "metadata": {},
   "source": [
    "## Experiment"
   ]
  },
  {
   "cell_type": "markdown",
   "metadata": {},
   "source": [
    "### Objective"
   ]
  },
  {
   "cell_type": "markdown",
   "metadata": {},
   "source": [
    "* To compare the precision among HX711, ADS1232, and ADS1220."
   ]
  },
  {
   "cell_type": "markdown",
   "metadata": {},
   "source": [
    "### Setup"
   ]
  },
  {
   "cell_type": "markdown",
   "metadata": {},
   "source": [
    "<img width=300px align=left src=testbed.jpg>\n",
    "<img width=400px align=right src=../documents/imas_cjmcu_hx711_ads1232_ads1220.png>\n",
    "\n",
    "In the left figure, \n",
    "    in spite of phototyping the board just for experimentation, \n",
    "    the testbed was powerred by lab-graded power supply due to the measurment quality.\n",
    "\n",
    "The __schematic__ shown on the right explains the prototype circuit on the left."
   ]
  },
  {
   "cell_type": "markdown",
   "metadata": {},
   "source": [
    "<img width=300px align=right src=standard_weights.jpg>\n",
    "\n",
    "The loadcell used in this test plays a part as scale, as shown in the figure on the right.\n",
    "Standard weights: __5, 10, 20, 50, and 100 grams__ were read by the ADCs under test.\n",
    "Each weight were __measured 20 times__ for examining precision of each ADCs throught __mean and varience__ calculations."
   ]
  },
  {
   "cell_type": "markdown",
   "metadata": {},
   "source": [
    "### Method"
   ]
  },
  {
   "cell_type": "markdown",
   "metadata": {},
   "source": [
    "1. Experiment each ADC by __connecting__ the __only one loadcell__ to one of ADC: HX711, ADS1232, and ADS1220.\n",
    "1. __Calibrate__ the connected system with __100g standard weight__.\n",
    "1. __Read__ the value from ADC __20 times__."
   ]
  },
  {
   "cell_type": "markdown",
   "metadata": {},
   "source": [
    "### Result"
   ]
  },
  {
   "cell_type": "code",
   "execution_count": 1,
   "metadata": {},
   "outputs": [],
   "source": [
    "result_paths_hx711   = \"HX711.txt\"\n",
    "result_paths_ads1232 = \"ADS1232.txt\"\n",
    "result_paths_ads1220 = \"ADS1220.txt\"\n",
    "result_paths = {'HX711'   : result_paths_hx711, \n",
    "                'ADS1232' : result_paths_ads1232, \n",
    "                'ADS1220' : result_paths_ads1220}\n",
    "\n",
    "tested_weights = [0, 5, 10, 20, 50, 100]"
   ]
  },
  {
   "cell_type": "markdown",
   "metadata": {},
   "source": [
    "#### Script"
   ]
  },
  {
   "cell_type": "code",
   "execution_count": 2,
   "metadata": {},
   "outputs": [],
   "source": [
    "%matplotlib inline\n",
    "%load_ext autoreload\n",
    "%autoreload 2"
   ]
  },
  {
   "cell_type": "code",
   "execution_count": 3,
   "metadata": {},
   "outputs": [],
   "source": [
    "import re, os\n",
    "import numpy as np\n",
    "import pandas as pd\n",
    "import matplotlib, datetime\n",
    "import matplotlib.pyplot as plt"
   ]
  },
  {
   "cell_type": "code",
   "execution_count": 4,
   "metadata": {},
   "outputs": [],
   "source": [
    "matplotlib.rc('text', usetex=True)\n",
    "matplotlib.rc('font',**{'family':'sans-serif', 'sans-serif':['Times New Roman'], 'size':10})"
   ]
  },
  {
   "cell_type": "code",
   "execution_count": 5,
   "metadata": {},
   "outputs": [],
   "source": [
    "def get_data_from_file(fpath):\n",
    "    f = open(fpath, 'r')\n",
    "    results = {}\n",
    "    data = []\n",
    "    re_temp = re.compile(r'\\[(?P<no>[\\d]+)\\] [\\d\\w]+: raw=(?P<raw>[\\d-]+) volt=(?P<volt>[\\d.-]+)mV mass=(?P<mass>[\\d.-]+)g')\n",
    "    re_dash = re.compile(r'^-+$')\n",
    "    \n",
    "    line = f.readline()\n",
    "    while line:\n",
    "        line = f.readline() # Already skipped the first line\n",
    "        found = re_temp.search(line)\n",
    "        if found is not None:\n",
    "            data.append(found.groupdict())\n",
    "        elif re_dash.match(line):\n",
    "            k = int(round(np.mean([float(l['mass']) for l in data]), 0))  # Guess the tested standard weight as the key\n",
    "            \n",
    "            abs_diff = lambda list_value : abs(list_value - k)\n",
    "            c = min(tested_weights, key=abs_diff)  # Find the nearest value from the weights to k\n",
    "            \n",
    "            results[c] = data\n",
    "            data = []\n",
    "            \n",
    "            #print k, c\n",
    "\n",
    "    return results"
   ]
  },
  {
   "cell_type": "code",
   "execution_count": 6,
   "metadata": {},
   "outputs": [],
   "source": [
    "def make_df_from_file(fpath, sel='mass'):\n",
    "    results = get_data_from_file(fpath)\n",
    "    sel_results = { std_weight:\n",
    "                   {\n",
    "#                        'mean': np.mean([ float(t[sel]) for t in tests ]),\n",
    "                       'std' : np.std( [ float(t[sel]) for t in tests ])\n",
    "#                         i: float(t[sel]) for i, t in enumerate(tests)\n",
    "                   }\n",
    "                   for std_weight, tests in results.items() }\n",
    "    return pd.DataFrame(sel_results)"
   ]
  },
  {
   "cell_type": "markdown",
   "metadata": {},
   "source": [
    "#### Data"
   ]
  },
  {
   "cell_type": "code",
   "execution_count": 7,
   "metadata": {},
   "outputs": [],
   "source": [
    "df_mass = pd.concat([ make_df_from_file(p).transpose().rename(columns={'std':k}) \n",
    "                     for k, p in result_paths.items() ], sort=False, axis=1, join='outer')"
   ]
  },
  {
   "cell_type": "code",
   "execution_count": 8,
   "metadata": {
    "scrolled": true
   },
   "outputs": [
    {
     "data": {
      "text/html": [
       "<div>\n",
       "<style scoped>\n",
       "    .dataframe tbody tr th:only-of-type {\n",
       "        vertical-align: middle;\n",
       "    }\n",
       "\n",
       "    .dataframe tbody tr th {\n",
       "        vertical-align: top;\n",
       "    }\n",
       "\n",
       "    .dataframe thead th {\n",
       "        text-align: right;\n",
       "    }\n",
       "</style>\n",
       "<table border=\"1\" class=\"dataframe\">\n",
       "  <thead>\n",
       "    <tr style=\"text-align: right;\">\n",
       "      <th></th>\n",
       "      <th>HX711</th>\n",
       "      <th>ADS1232</th>\n",
       "      <th>ADS1220</th>\n",
       "    </tr>\n",
       "  </thead>\n",
       "  <tbody>\n",
       "    <tr>\n",
       "      <th>0</th>\n",
       "      <td>0.030622</td>\n",
       "      <td>0.057854</td>\n",
       "      <td>0.032238</td>\n",
       "    </tr>\n",
       "    <tr>\n",
       "      <th>5</th>\n",
       "      <td>0.095268</td>\n",
       "      <td>0.042845</td>\n",
       "      <td>0.072913</td>\n",
       "    </tr>\n",
       "    <tr>\n",
       "      <th>10</th>\n",
       "      <td>0.012816</td>\n",
       "      <td>0.103328</td>\n",
       "      <td>0.055197</td>\n",
       "    </tr>\n",
       "    <tr>\n",
       "      <th>20</th>\n",
       "      <td>0.020304</td>\n",
       "      <td>0.060594</td>\n",
       "      <td>0.010109</td>\n",
       "    </tr>\n",
       "    <tr>\n",
       "      <th>50</th>\n",
       "      <td>0.009610</td>\n",
       "      <td>0.101487</td>\n",
       "      <td>0.020150</td>\n",
       "    </tr>\n",
       "    <tr>\n",
       "      <th>100</th>\n",
       "      <td>0.011463</td>\n",
       "      <td>0.070893</td>\n",
       "      <td>0.038346</td>\n",
       "    </tr>\n",
       "  </tbody>\n",
       "</table>\n",
       "</div>"
      ],
      "text/plain": [
       "        HX711   ADS1232   ADS1220\n",
       "0    0.030622  0.057854  0.032238\n",
       "5    0.095268  0.042845  0.072913\n",
       "10   0.012816  0.103328  0.055197\n",
       "20   0.020304  0.060594  0.010109\n",
       "50   0.009610  0.101487  0.020150\n",
       "100  0.011463  0.070893  0.038346"
      ]
     },
     "execution_count": 8,
     "metadata": {},
     "output_type": "execute_result"
    }
   ],
   "source": [
    "df_mass"
   ]
  },
  {
   "cell_type": "markdown",
   "metadata": {},
   "source": [
    "#### Plot"
   ]
  },
  {
   "cell_type": "code",
   "execution_count": 11,
   "metadata": {},
   "outputs": [
    {
     "data": {
      "text/plain": [
       "Text(0,0.5,'Stardard Deviation of 20-time read values')"
      ]
     },
     "execution_count": 11,
     "metadata": {},
     "output_type": "execute_result"
    },
    {
     "data": {
      "image/png": "[encoded data removed]",
      "text/plain": [
       "<Figure size 864x720 with 1 Axes>"
      ]
     },
     "metadata": {
      "needs_background": "light"
     },
     "output_type": "display_data"
    }
   ],
   "source": [
    "ax = df_mass.plot(title='Precision Comparison on HX711, ADS1232, and ADS1220',\n",
    "                  grid=True, color='rgb', figsize=(12,10), \n",
    "                  markevery=1, marker='o', markerfacecolor='black')\n",
    "ax.set_xlabel('Standard Weight: 0, 5, 10, 20, 50, 100g')\n",
    "ax.set_ylabel('Stardard Deviation of 20-time read values')"
   ]
  },
  {
   "cell_type": "markdown",
   "metadata": {},
   "source": [
    "## Conclustion"
   ]
  },
  {
   "cell_type": "markdown",
   "metadata": {},
   "source": [
    "The result shows that __HX711__ got the best precise reading comparatively to ADS1232 and ADS1220.\n",
    "\n",
    "Despite slightly losing, __ADS1220__ sampled values at 20-SPS, faster than the others that did at 10-SPS.\n",
    "Additionally, it can increase the rate upto 2k-SPS.\n",
    "Therefore, in the case that more sampling rate is required, ADS1220 probably be the answer. "
   ]
  },
  {
   "cell_type": "markdown",
   "metadata": {},
   "source": [
    "---"
   ]
  }
 ],
 "metadata": {
  "kernelspec": {
   "display_name": "Python 2",
   "language": "python",
   "name": "python2"
  },
  "language_info": {
   "codemirror_mode": {
    "name": "ipython",
    "version": 2
   },
   "file_extension": ".py",
   "mimetype": "text/x-python",
   "name": "python",
   "nbconvert_exporter": "python",
   "pygments_lexer": "ipython2",
   "version": "2.7.15"
  },
  "toc": {
   "base_numbering": 1,
   "nav_menu": {},
   "number_sections": false,
   "sideBar": true,
   "skip_h1_title": true,
   "title_cell": "Table of Contents",
   "title_sidebar": "Contents",
   "toc_cell": false,
   "toc_position": {
    "height": "calc(100% - 180px)",
    "left": "10px",
    "top": "150px",
    "width": "164.988px"
   },
   "toc_section_display": true,
   "toc_window_display": true
  }
 },
 "nbformat": 4,
 "nbformat_minor": 2
}
